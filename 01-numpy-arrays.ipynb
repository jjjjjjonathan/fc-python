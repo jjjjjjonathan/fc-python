{
 "cells": [
  {
   "cell_type": "code",
   "execution_count": 1,
   "metadata": {},
   "outputs": [],
   "source": [
    "import numpy as np"
   ]
  },
  {
   "cell_type": "code",
   "execution_count": 2,
   "metadata": {},
   "outputs": [
    {
     "name": "stdout",
     "output_type": "stream",
     "text": [
      "['Kaller' 'Fradeel' 'Hayward' 'Honeyman']\n",
      "[['Kaller' 'Fradeel' 'Hayward' 'Honeyman']\n",
      " ['184' '188' '191' '193']\n",
      " ['81' '85' '103' '99']]\n"
     ]
    }
   ],
   "source": [
    "# Three lists, one for GK heights, one for GK weights, one for names\n",
    "\n",
    "gk_names = ['Kaller', 'Fradeel', 'Hayward', 'Honeyman']\n",
    "gk_heights = [184, 188, 191, 193]\n",
    "gk_weights = [81, 85, 103, 99]\n",
    "\n",
    "# create an array of names\n",
    "print(np.array(gk_names))\n",
    "\n",
    "# create a matrix of all three lists, start with a list of lists\n",
    "\n",
    "gk_matrix = [gk_names, gk_heights, gk_weights]\n",
    "print(np.array(gk_matrix))"
   ]
  },
  {
   "cell_type": "code",
   "execution_count": 3,
   "metadata": {},
   "outputs": [
    {
     "data": {
      "text/plain": [
       "array([ 0,  1,  2,  3,  4,  5,  6,  7,  8,  9, 10, 11])"
      ]
     },
     "execution_count": 3,
     "metadata": {},
     "output_type": "execute_result"
    }
   ],
   "source": [
    "# with 'arange', we can create arrays just like we created lists with 'range'\n",
    "# this gives us an array ranging from the numbers in the arguments\n",
    "\n",
    "np.arange(0,12)"
   ]
  },
  {
   "cell_type": "code",
   "execution_count": 4,
   "metadata": {},
   "outputs": [
    {
     "data": {
      "text/plain": [
       "array([[0., 0., 0., 0., 0., 0., 0., 0., 0., 0., 0.],\n",
       "       [0., 0., 0., 0., 0., 0., 0., 0., 0., 0., 0.],\n",
       "       [0., 0., 0., 0., 0., 0., 0., 0., 0., 0., 0.]])"
      ]
     },
     "execution_count": 4,
     "metadata": {},
     "output_type": "execute_result"
    }
   ],
   "source": [
    "# want a blank array? Create it full of zeroes with 'zeros'\n",
    "# the argument within it create the shape of a 2d or 3d array\n",
    "\n",
    "np.zeros((3,11))"
   ]
  }
 ],
 "metadata": {
  "kernelspec": {
   "display_name": "env",
   "language": "python",
   "name": "python3"
  },
  "language_info": {
   "codemirror_mode": {
    "name": "ipython",
    "version": 3
   },
   "file_extension": ".py",
   "mimetype": "text/x-python",
   "name": "python",
   "nbconvert_exporter": "python",
   "pygments_lexer": "ipython3",
   "version": "3.10.6"
  },
  "orig_nbformat": 4,
  "vscode": {
   "interpreter": {
    "hash": "e875d0f4f2a501c6eaf96dea2dee878a8e12b67b515bd702018dabcdfe7af8b7"
   }
  }
 },
 "nbformat": 4,
 "nbformat_minor": 2
}
