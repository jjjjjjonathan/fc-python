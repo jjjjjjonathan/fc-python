{
 "cells": [
  {
   "attachments": {},
   "cell_type": "markdown",
   "metadata": {},
   "source": [
    "# Dataframes with Pandas\n",
    "---"
   ]
  },
  {
   "attachments": {},
   "cell_type": "markdown",
   "metadata": {},
   "source": [
    "DataFrames  allow us to use grids just like we would conventional spreadsheets. They give us labelled columns and rows, filtering, and many more tools to get the most insight and ease of use from our data."
   ]
  },
  {
   "cell_type": "code",
   "execution_count": 1,
   "metadata": {},
   "outputs": [],
   "source": [
    "import pandas as pd\n",
    "import numpy as np"
   ]
  },
  {
   "attachments": {},
   "cell_type": "markdown",
   "metadata": {},
   "source": [
    "The table below has a scout report on four different players' shooting, passing, and defending skills."
   ]
  },
  {
   "cell_type": "code",
   "execution_count": 2,
   "metadata": {},
   "outputs": [
    {
     "name": "stdout",
     "output_type": "stream",
     "text": [
      "          Shooting  Passing  Defending\n",
      "Pagbo            6        7          4\n",
      "Grazemen         4        8          9\n",
      "Cantay           3        6          3\n",
      "Ravane           3        5          9\n"
     ]
    }
   ],
   "source": [
    "player_list = ['Pagbo', 'Grazemen','Cantay','Ravane']\n",
    "skill_list = ['Shooting','Passing','Defending']\n",
    "\n",
    "# In this example, we have a random number generator for our scout. Don't use it for an actual team.\n",
    "\n",
    "scores_array = np.random.randint(1,10,(4,3))\n",
    "\n",
    "df = pd.DataFrame(data=scores_array, index=player_list, columns=skill_list)\n",
    "\n",
    "print(df)"
   ]
  },
  {
   "attachments": {},
   "cell_type": "markdown",
   "metadata": {},
   "source": [
    "DataFrame needs three arguments to be fully labelled.\n",
    "\n",
    "- Data is the values that make up the body\n",
    "- Index goes along the y axis and is the name of each row\n",
    "- Columns run along the x axis to name the columns\n",
    "\n",
    "There are other ways to create dataframes, but this will be fine for now."
   ]
  },
  {
   "attachments": {},
   "cell_type": "markdown",
   "metadata": {},
   "source": [
    "## Selecting and indexing"
   ]
  },
  {
   "attachments": {},
   "cell_type": "markdown",
   "metadata": {},
   "source": [
    "Use square brackets to select."
   ]
  },
  {
   "cell_type": "code",
   "execution_count": 3,
   "metadata": {},
   "outputs": [
    {
     "name": "stdout",
     "output_type": "stream",
     "text": [
      "Pagbo       6\n",
      "Grazemen    4\n",
      "Cantay      3\n",
      "Ravane      3\n",
      "Name: Shooting, dtype: int64\n"
     ]
    }
   ],
   "source": [
    "print(df['Shooting'])"
   ]
  },
  {
   "attachments": {},
   "cell_type": "markdown",
   "metadata": {},
   "source": [
    "For rows, use `.loc` if you select with a name."
   ]
  },
  {
   "cell_type": "code",
   "execution_count": 4,
   "metadata": {},
   "outputs": [
    {
     "name": "stdout",
     "output_type": "stream",
     "text": [
      "Shooting     6\n",
      "Passing      7\n",
      "Defending    4\n",
      "Name: Pagbo, dtype: int64\n"
     ]
    }
   ],
   "source": [
    "print(df.loc['Pagbo'])"
   ]
  },
  {
   "attachments": {},
   "cell_type": "markdown",
   "metadata": {},
   "source": [
    "If you use an index number, use `.iloc`."
   ]
  },
  {
   "cell_type": "code",
   "execution_count": 5,
   "metadata": {},
   "outputs": [
    {
     "name": "stdout",
     "output_type": "stream",
     "text": [
      "          Shooting  Passing  Defending\n",
      "Grazemen         4        8          9\n",
      "Cantay           3        6          3\n"
     ]
    }
   ],
   "source": [
    "print(df.iloc[1:3])"
   ]
  },
  {
   "attachments": {},
   "cell_type": "markdown",
   "metadata": {},
   "source": [
    "## Creating and removing columns/rows"
   ]
  },
  {
   "attachments": {},
   "cell_type": "markdown",
   "metadata": {},
   "source": [
    "DataFrames make it really easy for us to be flexible witho ur datasets. We can create new columns."
   ]
  },
  {
   "cell_type": "code",
   "execution_count": 6,
   "metadata": {},
   "outputs": [
    {
     "name": "stdout",
     "output_type": "stream",
     "text": [
      "          Shooting  Passing  Defending  Communication\n",
      "Pagbo            6        7          4              9\n",
      "Grazemen         4        8          9              9\n",
      "Cantay           3        6          3              8\n",
      "Ravane           3        5          9              8\n"
     ]
    }
   ],
   "source": [
    "df['Communication'] = np.random.randint(1, 10, 4)\n",
    "print(df)"
   ]
  },
  {
   "attachments": {},
   "cell_type": "markdown",
   "metadata": {},
   "source": [
    "To add a new column, refer to it with square brackets, give it a new name, and then fill it with a series. In this case still, we're using random numbers."
   ]
  },
  {
   "attachments": {},
   "cell_type": "markdown",
   "metadata": {},
   "source": [
    "To delete a column from a report, use `.drop`."
   ]
  },
  {
   "cell_type": "code",
   "execution_count": 7,
   "metadata": {},
   "outputs": [
    {
     "name": "stdout",
     "output_type": "stream",
     "text": [
      "          Shooting  Passing  Communication\n",
      "Pagbo            6        7              9\n",
      "Grazemen         4        8              9\n",
      "Cantay           3        6              8\n",
      "Ravane           3        5              8\n"
     ]
    }
   ],
   "source": [
    "# axis=1 refers to columns\n",
    "df = df.drop('Defending', axis=1)\n",
    "print(df)"
   ]
  },
  {
   "attachments": {},
   "cell_type": "markdown",
   "metadata": {},
   "source": [
    "To `.drop` rows, set `axis=0`."
   ]
  },
  {
   "cell_type": "code",
   "execution_count": 8,
   "metadata": {},
   "outputs": [
    {
     "name": "stdout",
     "output_type": "stream",
     "text": [
      "        Shooting  Passing  Communication\n",
      "Pagbo          6        7              9\n",
      "Cantay         3        6              8\n",
      "Ravane         3        5              8\n"
     ]
    }
   ],
   "source": [
    "df = df.drop('Grazemen', axis=0)\n",
    "print(df)"
   ]
  },
  {
   "attachments": {},
   "cell_type": "markdown",
   "metadata": {},
   "source": [
    "To add a new row, refer to it with `.loc`, and then give it a list or series of values. Again for this purpose, we're using random numbers."
   ]
  },
  {
   "cell_type": "code",
   "execution_count": 9,
   "metadata": {},
   "outputs": [
    {
     "name": "stdout",
     "output_type": "stream",
     "text": [
      "        Shooting  Passing  Communication\n",
      "Pagbo          6        7              9\n",
      "Cantay         3        6              8\n",
      "Ravane         3        5              8\n",
      "Gomez          1        2              2\n"
     ]
    }
   ],
   "source": [
    "df.loc['Gomez'] = np.random.randint(1,10,3)\n",
    "print(df)"
   ]
  },
  {
   "attachments": {},
   "cell_type": "markdown",
   "metadata": {},
   "source": [
    "## Conditional Selection"
   ]
  },
  {
   "attachments": {},
   "cell_type": "markdown",
   "metadata": {},
   "source": [
    "In our series, we used a true or false condition to select the data that we wanted to see. We use the exact same logic here."
   ]
  },
  {
   "cell_type": "code",
   "execution_count": 10,
   "metadata": {},
   "outputs": [
    {
     "name": "stdout",
     "output_type": "stream",
     "text": [
      "        Shooting  Passing  Communication\n",
      "Pagbo       True     True           True\n",
      "Cantay     False     True           True\n",
      "Ravane     False    False           True\n",
      "Gomez      False    False          False\n"
     ]
    }
   ],
   "source": [
    "print(df>5)"
   ]
  },
  {
   "attachments": {},
   "cell_type": "markdown",
   "metadata": {},
   "source": [
    "This dataframe above returns true or false values. Just like with series, we can use these booleans to return a DataFrame according to our criteria."
   ]
  },
  {
   "attachments": {},
   "cell_type": "markdown",
   "metadata": {},
   "source": [
    "You can also apply it to a specific column (which we already know is just a series)."
   ]
  },
  {
   "cell_type": "code",
   "execution_count": 11,
   "metadata": {},
   "outputs": [
    {
     "name": "stdout",
     "output_type": "stream",
     "text": [
      "Pagbo      True\n",
      "Cantay    False\n",
      "Ravane    False\n",
      "Gomez     False\n",
      "Name: Shooting, dtype: bool\n"
     ]
    }
   ],
   "source": [
    "print(df['Shooting']>5)"
   ]
  },
  {
   "attachments": {},
   "cell_type": "markdown",
   "metadata": {},
   "source": [
    "As expected, we have a series of boolean values. If we use square brackets to select our dataframe using these, we get a filtered dataframe."
   ]
  },
  {
   "cell_type": "code",
   "execution_count": 12,
   "metadata": {},
   "outputs": [
    {
     "name": "stdout",
     "output_type": "stream",
     "text": [
      "       Shooting  Passing  Communication\n",
      "Pagbo         6        7              9\n"
     ]
    }
   ],
   "source": [
    "print(df[df['Shooting']>3])"
   ]
  }
 ],
 "metadata": {
  "kernelspec": {
   "display_name": "env",
   "language": "python",
   "name": "python3"
  },
  "language_info": {
   "codemirror_mode": {
    "name": "ipython",
    "version": 3
   },
   "file_extension": ".py",
   "mimetype": "text/x-python",
   "name": "python",
   "nbconvert_exporter": "python",
   "pygments_lexer": "ipython3",
   "version": "3.10.6"
  },
  "orig_nbformat": 4,
  "vscode": {
   "interpreter": {
    "hash": "e875d0f4f2a501c6eaf96dea2dee878a8e12b67b515bd702018dabcdfe7af8b7"
   }
  }
 },
 "nbformat": 4,
 "nbformat_minor": 2
}
