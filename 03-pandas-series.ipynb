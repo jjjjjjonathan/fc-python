{
 "cells": [
  {
   "attachments": {},
   "cell_type": "markdown",
   "metadata": {},
   "source": [
    "# Series\n",
    "---"
   ]
  },
  {
   "attachments": {},
   "cell_type": "markdown",
   "metadata": {},
   "source": [
    "Key difference between NumPy arrays and Pandas series is that **Pandas will allow us to albel or axes**, making grids a lot easier to read, index, and utilize."
   ]
  },
  {
   "cell_type": "code",
   "execution_count": 1,
   "metadata": {},
   "outputs": [],
   "source": [
    "import numpy as np\n",
    "import pandas as pd"
   ]
  },
  {
   "cell_type": "code",
   "execution_count": 2,
   "metadata": {},
   "outputs": [
    {
     "name": "stdout",
     "output_type": "stream",
     "text": [
      "0    60432\n",
      "1    55097\n",
      "2    39460\n",
      "dtype: int64\n"
     ]
    }
   ],
   "source": [
    "capacity = pd.Series(data=[60432, 55097, 39460])\n",
    "print(capacity)"
   ]
  },
  {
   "attachments": {},
   "cell_type": "markdown",
   "metadata": {},
   "source": [
    "This is a series created from a list, and it looks different as it has an index running alongside it."
   ]
  },
  {
   "attachments": {},
   "cell_type": "markdown",
   "metadata": {},
   "source": [
    "We can also change these index labels."
   ]
  },
  {
   "cell_type": "code",
   "execution_count": 3,
   "metadata": {},
   "outputs": [
    {
     "name": "stdout",
     "output_type": "stream",
     "text": [
      "Emirates Stadium    60432\n",
      "Etihad Stadium      55097\n",
      "Elland Road         39460\n",
      "dtype: int64\n"
     ]
    }
   ],
   "source": [
    "capacity = pd.Series(data=[60432, 55097, 39460],\n",
    "                    index=['Emirates Stadium', 'Etihad Stadium', 'Elland Road'])\n",
    "\n",
    "print(capacity)"
   ]
  },
  {
   "attachments": {},
   "cell_type": "markdown",
   "metadata": {},
   "source": [
    "Passing an index argument changes the index labels, and our data is now much easier to read when we need to."
   ]
  },
  {
   "attachments": {},
   "cell_type": "markdown",
   "metadata": {},
   "source": [
    "It's also easier to select."
   ]
  },
  {
   "cell_type": "code",
   "execution_count": 4,
   "metadata": {},
   "outputs": [
    {
     "name": "stdout",
     "output_type": "stream",
     "text": [
      "39460\n"
     ]
    }
   ],
   "source": [
    "print(capacity['Elland Road'])"
   ]
  },
  {
   "attachments": {},
   "cell_type": "markdown",
   "metadata": {},
   "source": [
    "You can also use dictionaries to do the same thing."
   ]
  },
  {
   "cell_type": "code",
   "execution_count": 5,
   "metadata": {},
   "outputs": [
    {
     "name": "stdout",
     "output_type": "stream",
     "text": [
      "Ewood Park         31367\n",
      "Liberty Stadium    20937\n",
      "Portman Road       30311\n",
      "dtype: int64\n"
     ]
    }
   ],
   "source": [
    "capacity_dict = {\n",
    "  'Ewood Park': 31367,\n",
    "  'Liberty Stadium': 20937,\n",
    "  'Portman Road': 30311\n",
    "}\n",
    "\n",
    "capacity = pd.Series(capacity_dict)\n",
    "\n",
    "print(capacity)"
   ]
  }
 ],
 "metadata": {
  "kernelspec": {
   "display_name": "env",
   "language": "python",
   "name": "python3"
  },
  "language_info": {
   "codemirror_mode": {
    "name": "ipython",
    "version": 3
   },
   "file_extension": ".py",
   "mimetype": "text/x-python",
   "name": "python",
   "nbconvert_exporter": "python",
   "pygments_lexer": "ipython3",
   "version": "3.10.6"
  },
  "orig_nbformat": 4,
  "vscode": {
   "interpreter": {
    "hash": "e875d0f4f2a501c6eaf96dea2dee878a8e12b67b515bd702018dabcdfe7af8b7"
   }
  }
 },
 "nbformat": 4,
 "nbformat_minor": 2
}
