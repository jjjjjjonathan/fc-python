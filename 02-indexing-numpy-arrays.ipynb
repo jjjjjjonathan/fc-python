{
 "cells": [
  {
   "attachments": {},
   "cell_type": "markdown",
   "metadata": {},
   "source": [
    "# Indexing NumPy Arrays"
   ]
  },
  {
   "attachments": {},
   "cell_type": "markdown",
   "metadata": {},
   "source": [
    "In the previous section, we used square brackets after an array to select a specific part of the array.\n",
    "\n",
    "Now, we will see how we can identify and select parts of our arrays, whether 1d or 2d."
   ]
  },
  {
   "attachments": {},
   "cell_type": "markdown",
   "metadata": {},
   "source": [
    "Call `arange()` for every 4 years for a World Cup. Then use `np.delete()` to remove parts of an array to remove 1942 and 1946 (in locations 3 and 4)"
   ]
  },
  {
   "cell_type": "code",
   "execution_count": 1,
   "metadata": {},
   "outputs": [
    {
     "name": "stdout",
     "output_type": "stream",
     "text": [
      "[1930 1934 1938 1950 1954 1958 1962 1966 1970 1974 1978 1982 1986 1990\n",
      " 1994 1998 2002 2006 2010 2014]\n"
     ]
    }
   ],
   "source": [
    "import numpy as np\n",
    "\n",
    "# Every 4 years since 1930\n",
    "wc_years = np.arange(1930, 2018, 4)\n",
    "\n",
    "# no world cup in 1942 or 1946\n",
    "\n",
    "wc_years = np.delete(wc_years, (3, 4))\n",
    "\n",
    "print(wc_years)"
   ]
  },
  {
   "attachments": {},
   "cell_type": "markdown",
   "metadata": {},
   "source": [
    "## Bracket Selection"
   ]
  },
  {
   "attachments": {},
   "cell_type": "markdown",
   "metadata": {},
   "source": [
    "Following an array with square brackets is the easiest way to select an individual value or range."
   ]
  },
  {
   "attachments": {},
   "cell_type": "markdown",
   "metadata": {},
   "source": [
    "Two important things to remember that will be scond nature to you soon:\n",
    "\n",
    "1. Any range includes teh first number, but not the final one.\n",
    "2. Index begin at 0 in Python"
   ]
  },
  {
   "cell_type": "code",
   "execution_count": 2,
   "metadata": {},
   "outputs": [
    {
     "data": {
      "text/plain": [
       "1938"
      ]
     },
     "execution_count": 2,
     "metadata": {},
     "output_type": "execute_result"
    }
   ],
   "source": [
    "# What year was the third World Cup held?\n",
    "\n",
    "wc_years[2]"
   ]
  },
  {
   "cell_type": "code",
   "execution_count": 3,
   "metadata": {},
   "outputs": [
    {
     "data": {
      "text/plain": [
       "array([1950, 1954, 1958, 1962])"
      ]
     },
     "execution_count": 3,
     "metadata": {},
     "output_type": "execute_result"
    }
   ],
   "source": [
    "# Show me the 4 world cup years following WW2\n",
    "\n",
    "wc_years[3:7]"
   ]
  },
  {
   "attachments": {},
   "cell_type": "markdown",
   "metadata": {},
   "source": [
    "Bracket selection allows you to make changes to any of these figures, just like you would do with a variable. Be careful, though, as you cannot undo this and you will have to go several steps back."
   ]
  },
  {
   "attachments": {},
   "cell_type": "markdown",
   "metadata": {},
   "source": [
    "## Selections in a 2d array (grid)"
   ]
  },
  {
   "attachments": {},
   "cell_type": "markdown",
   "metadata": {},
   "source": [
    "Bracket selection is also used to make selections on a grid. We have two options to do so:"
   ]
  },
  {
   "attachments": {},
   "cell_type": "markdown",
   "metadata": {},
   "source": [
    "- `grid[row][column]`\n",
    "- `grid[row, column]`"
   ]
  },
  {
   "attachments": {},
   "cell_type": "markdown",
   "metadata": {},
   "source": [
    "Both are essentially the same, so use whatever works for you and be aware that you may see it differently elsewhere."
   ]
  },
  {
   "cell_type": "code",
   "execution_count": 4,
   "metadata": {},
   "outputs": [
    {
     "name": "stdout",
     "output_type": "stream",
     "text": [
      "[['2002' '2006' '2010' '2014']\n",
      " ['Japan/Korea' 'Germany' 'South Africa' 'Brazil']\n",
      " ['Brazil' 'Italy' 'Spain' 'Germany']]\n"
     ]
    }
   ],
   "source": [
    "# Create our 2d array\n",
    "\n",
    "wc_years = [2002, 2006, 2010, 2014]\n",
    "wc_hosts = ['Japan/Korea', 'Germany', 'South Africa', 'Brazil']\n",
    "wc_winners = ['Brazil', 'Italy', 'Spain', 'Germany']\n",
    "\n",
    "wc_array = np.array((wc_years, wc_hosts, wc_winners))\n",
    "print(wc_array)"
   ]
  },
  {
   "cell_type": "code",
   "execution_count": 5,
   "metadata": {},
   "outputs": [
    {
     "name": "stdout",
     "output_type": "stream",
     "text": [
      "South Africa\n"
     ]
    }
   ],
   "source": [
    "# 2010 ins the third year, find the host in the second row\n",
    "\n",
    "print(wc_array[1, 2])"
   ]
  },
  {
   "cell_type": "code",
   "execution_count": 6,
   "metadata": {},
   "outputs": [
    {
     "name": "stdout",
     "output_type": "stream",
     "text": [
      "Germany\n"
     ]
    }
   ],
   "source": [
    "# Find the winner of the last World Cup using negative selection\n",
    "\n",
    "print(wc_array[2, -1])"
   ]
  },
  {
   "attachments": {},
   "cell_type": "markdown",
   "metadata": {},
   "source": [
    "## Selecting parts of an array with criteria"
   ]
  },
  {
   "attachments": {},
   "cell_type": "markdown",
   "metadata": {},
   "source": [
    "So far, we have only selected values when we know their location. Quite often, we won't know where things are, or will want to find something completely new."
   ]
  },
  {
   "attachments": {},
   "cell_type": "markdown",
   "metadata": {},
   "source": [
    "NumPy allows us to select b ased on criteria that we give it. We will give it a test and if numbers return as `True`, then it will give them to us."
   ]
  },
  {
   "cell_type": "code",
   "execution_count": 7,
   "metadata": {},
   "outputs": [],
   "source": [
    "wc_years = np.array([1966, 1970, 1974, 1978])\n",
    "wc_top_scorers = np.array(['Eusebio', 'Muller', 'Lato', 'Kempes'])\n",
    "wc_goals = np.array([9, 10, 7, 6])"
   ]
  },
  {
   "cell_type": "code",
   "execution_count": 8,
   "metadata": {},
   "outputs": [
    {
     "name": "stdout",
     "output_type": "stream",
     "text": [
      "[ True  True False False]\n"
     ]
    }
   ],
   "source": [
    "# Where does the top scorer score more than 8 goals?\n",
    "\n",
    "print(wc_goals > 8)"
   ]
  },
  {
   "cell_type": "code",
   "execution_count": 9,
   "metadata": {},
   "outputs": [
    {
     "data": {
      "text/plain": [
       "array(['Eusebio', 'Muller'], dtype='<U7')"
      ]
     },
     "execution_count": 9,
     "metadata": {},
     "output_type": "execute_result"
    }
   ],
   "source": [
    "# not particularly useful, but we can then use bracket selection with this!\n",
    "\n",
    "wc_top_scorers[(wc_goals > 8)]"
   ]
  },
  {
   "attachments": {},
   "cell_type": "markdown",
   "metadata": {},
   "source": [
    "The first query returns an array of `True` or `False`. We then plug this into another array, which will return only the locations that are `True`. This allows us to get the scorers' names, not just a `True` or `False`. This is useful with small arrays, but will be a massive help when we deal with bigger datasets."
   ]
  },
  {
   "attachments": {},
   "cell_type": "markdown",
   "metadata": {},
   "source": [
    "## Summary"
   ]
  },
  {
   "attachments": {},
   "cell_type": "markdown",
   "metadata": {},
   "source": [
    "Selecting values in either a 1d or 2d array is really easy.\n",
    "\n",
    "If we know where we want to look, we have square brackets containing index numbers - one number for a 1d array, 2 numbers for a row/column in a grid.\n",
    "\n",
    "However, we do not just have to pass in the index. We can pass in an array of `True` or `False` that allows us to filter based on criteria. "
   ]
  }
 ],
 "metadata": {
  "kernelspec": {
   "display_name": "env",
   "language": "python",
   "name": "python3"
  },
  "language_info": {
   "codemirror_mode": {
    "name": "ipython",
    "version": 3
   },
   "file_extension": ".py",
   "mimetype": "text/x-python",
   "name": "python",
   "nbconvert_exporter": "python",
   "pygments_lexer": "ipython3",
   "version": "3.10.6"
  },
  "orig_nbformat": 4,
  "vscode": {
   "interpreter": {
    "hash": "e875d0f4f2a501c6eaf96dea2dee878a8e12b67b515bd702018dabcdfe7af8b7"
   }
  }
 },
 "nbformat": 4,
 "nbformat_minor": 2
}
