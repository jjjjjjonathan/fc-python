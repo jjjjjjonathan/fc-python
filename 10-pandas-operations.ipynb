{
 "cells": [
  {
   "attachments": {},
   "cell_type": "markdown",
   "metadata": {},
   "source": [
    "# Pandas Operations\n",
    "---"
   ]
  },
  {
   "attachments": {},
   "cell_type": "markdown",
   "metadata": {},
   "source": [
    "What else can pandas do?"
   ]
  },
  {
   "cell_type": "code",
   "execution_count": 3,
   "metadata": {},
   "outputs": [
    {
     "data": {
      "text/html": [
       "<div>\n",
       "<style scoped>\n",
       "    .dataframe tbody tr th:only-of-type {\n",
       "        vertical-align: middle;\n",
       "    }\n",
       "\n",
       "    .dataframe tbody tr th {\n",
       "        vertical-align: top;\n",
       "    }\n",
       "\n",
       "    .dataframe thead th {\n",
       "        text-align: right;\n",
       "    }\n",
       "</style>\n",
       "<table border=\"1\" class=\"dataframe\">\n",
       "  <thead>\n",
       "    <tr style=\"text-align: right;\">\n",
       "      <th></th>\n",
       "      <th>DateTime</th>\n",
       "      <th>HomeTeam</th>\n",
       "      <th>AwayTeam</th>\n",
       "      <th>FTHG</th>\n",
       "      <th>FTAG</th>\n",
       "      <th>Referee</th>\n",
       "    </tr>\n",
       "  </thead>\n",
       "  <tbody>\n",
       "    <tr>\n",
       "      <th>0</th>\n",
       "      <td>2020-09-12T12:30:00Z</td>\n",
       "      <td>Fulham</td>\n",
       "      <td>Arsenal</td>\n",
       "      <td>0</td>\n",
       "      <td>3</td>\n",
       "      <td>C Kavanagh</td>\n",
       "    </tr>\n",
       "    <tr>\n",
       "      <th>1</th>\n",
       "      <td>2020-09-12T15:00:00Z</td>\n",
       "      <td>Crystal Palace</td>\n",
       "      <td>Southampton</td>\n",
       "      <td>1</td>\n",
       "      <td>0</td>\n",
       "      <td>J Moss</td>\n",
       "    </tr>\n",
       "    <tr>\n",
       "      <th>2</th>\n",
       "      <td>2020-09-12T17:30:00Z</td>\n",
       "      <td>Liverpool</td>\n",
       "      <td>Leeds</td>\n",
       "      <td>4</td>\n",
       "      <td>3</td>\n",
       "      <td>M Oliver</td>\n",
       "    </tr>\n",
       "    <tr>\n",
       "      <th>3</th>\n",
       "      <td>2020-09-12T20:00:00Z</td>\n",
       "      <td>West Ham</td>\n",
       "      <td>Newcastle</td>\n",
       "      <td>0</td>\n",
       "      <td>2</td>\n",
       "      <td>S Attwell</td>\n",
       "    </tr>\n",
       "    <tr>\n",
       "      <th>4</th>\n",
       "      <td>2020-09-13T14:00:00Z</td>\n",
       "      <td>West Brom</td>\n",
       "      <td>Leicester</td>\n",
       "      <td>0</td>\n",
       "      <td>3</td>\n",
       "      <td>A Taylor</td>\n",
       "    </tr>\n",
       "  </tbody>\n",
       "</table>\n",
       "</div>"
      ],
      "text/plain": [
       "               DateTime        HomeTeam     AwayTeam  FTHG  FTAG     Referee\n",
       "0  2020-09-12T12:30:00Z          Fulham      Arsenal     0     3  C Kavanagh\n",
       "1  2020-09-12T15:00:00Z  Crystal Palace  Southampton     1     0      J Moss\n",
       "2  2020-09-12T17:30:00Z       Liverpool        Leeds     4     3    M Oliver\n",
       "3  2020-09-12T20:00:00Z        West Ham    Newcastle     0     2   S Attwell\n",
       "4  2020-09-13T14:00:00Z       West Brom    Leicester     0     3    A Taylor"
      ]
     },
     "execution_count": 3,
     "metadata": {},
     "output_type": "execute_result"
    }
   ],
   "source": [
    "import pandas as pd\n",
    "import numpy as np\n",
    "\n",
    "df = pd.read_csv('results.csv')\n",
    "df = df[['DateTime', 'HomeTeam', 'AwayTeam', 'FTHG', 'FTAG', 'Referee']]\n",
    "\n",
    "df.head()"
   ]
  },
  {
   "attachments": {},
   "cell_type": "markdown",
   "metadata": {},
   "source": [
    "Let's look what teams are in the set with `.unique()`."
   ]
  },
  {
   "cell_type": "code",
   "execution_count": 4,
   "metadata": {},
   "outputs": [
    {
     "name": "stdout",
     "output_type": "stream",
     "text": [
      "['Fulham' 'Crystal Palace' 'Liverpool' 'West Ham' 'West Brom' 'Tottenham'\n",
      " 'Brighton' 'Sheffield United' 'Everton' 'Leeds' 'Man United' 'Arsenal'\n",
      " 'Southampton' 'Newcastle' 'Chelsea' 'Leicester' 'Aston Villa' 'Wolves'\n",
      " 'Burnley' 'Man City']\n",
      "20 unique teams.\n"
     ]
    }
   ],
   "source": [
    "unique_teams = df['HomeTeam'].unique()\n",
    "\n",
    "print(unique_teams)\n",
    "\n",
    "print(f'{len(unique_teams)} unique teams.')"
   ]
  },
  {
   "attachments": {},
   "cell_type": "markdown",
   "metadata": {},
   "source": [
    "20 teams. A full dataset will have 380 games, let's check this."
   ]
  },
  {
   "cell_type": "code",
   "execution_count": 5,
   "metadata": {},
   "outputs": [
    {
     "data": {
      "text/plain": [
       "True"
      ]
     },
     "execution_count": 5,
     "metadata": {},
     "output_type": "execute_result"
    }
   ],
   "source": [
    "len(df) == (20*19)"
   ]
  },
  {
   "cell_type": "code",
   "execution_count": 6,
   "metadata": {},
   "outputs": [
    {
     "data": {
      "text/plain": [
       "Index(['DateTime', 'HomeTeam', 'AwayTeam', 'FTHG', 'FTAG', 'Referee'], dtype='object')"
      ]
     },
     "execution_count": 6,
     "metadata": {},
     "output_type": "execute_result"
    }
   ],
   "source": [
    "# What do we have in the columns?\n",
    "\n",
    "df.columns"
   ]
  },
  {
   "attachments": {},
   "cell_type": "markdown",
   "metadata": {},
   "source": [
    "We're not interested in referees, so let's `del` to permantly delete the referees list."
   ]
  },
  {
   "cell_type": "code",
   "execution_count": 7,
   "metadata": {},
   "outputs": [],
   "source": [
    "del df['Referee']"
   ]
  },
  {
   "attachments": {},
   "cell_type": "markdown",
   "metadata": {},
   "source": [
    "## Functions with data frames"
   ]
  },
  {
   "attachments": {},
   "cell_type": "markdown",
   "metadata": {},
   "source": [
    "Pandas allows us to easily apply functions and sums to dataFrames and the series that they are made of."
   ]
  },
  {
   "attachments": {},
   "cell_type": "markdown",
   "metadata": {},
   "source": [
    "Let's create two new columns:\n",
    "\n",
    "1. Result - home score minus away score\n",
    "2. ResultText - strings sayingw whether home or away won, or draw"
   ]
  },
  {
   "cell_type": "code",
   "execution_count": 9,
   "metadata": {},
   "outputs": [
    {
     "data": {
      "text/html": [
       "<div>\n",
       "<style scoped>\n",
       "    .dataframe tbody tr th:only-of-type {\n",
       "        vertical-align: middle;\n",
       "    }\n",
       "\n",
       "    .dataframe tbody tr th {\n",
       "        vertical-align: top;\n",
       "    }\n",
       "\n",
       "    .dataframe thead th {\n",
       "        text-align: right;\n",
       "    }\n",
       "</style>\n",
       "<table border=\"1\" class=\"dataframe\">\n",
       "  <thead>\n",
       "    <tr style=\"text-align: right;\">\n",
       "      <th></th>\n",
       "      <th>DateTime</th>\n",
       "      <th>HomeTeam</th>\n",
       "      <th>AwayTeam</th>\n",
       "      <th>FTHG</th>\n",
       "      <th>FTAG</th>\n",
       "      <th>Result</th>\n",
       "      <th>ResultText</th>\n",
       "    </tr>\n",
       "  </thead>\n",
       "  <tbody>\n",
       "    <tr>\n",
       "      <th>0</th>\n",
       "      <td>2020-09-12T12:30:00Z</td>\n",
       "      <td>Fulham</td>\n",
       "      <td>Arsenal</td>\n",
       "      <td>0</td>\n",
       "      <td>3</td>\n",
       "      <td>-3</td>\n",
       "      <td>Away Win</td>\n",
       "    </tr>\n",
       "    <tr>\n",
       "      <th>1</th>\n",
       "      <td>2020-09-12T15:00:00Z</td>\n",
       "      <td>Crystal Palace</td>\n",
       "      <td>Southampton</td>\n",
       "      <td>1</td>\n",
       "      <td>0</td>\n",
       "      <td>1</td>\n",
       "      <td>Home Win</td>\n",
       "    </tr>\n",
       "    <tr>\n",
       "      <th>2</th>\n",
       "      <td>2020-09-12T17:30:00Z</td>\n",
       "      <td>Liverpool</td>\n",
       "      <td>Leeds</td>\n",
       "      <td>4</td>\n",
       "      <td>3</td>\n",
       "      <td>1</td>\n",
       "      <td>Home Win</td>\n",
       "    </tr>\n",
       "  </tbody>\n",
       "</table>\n",
       "</div>"
      ],
      "text/plain": [
       "               DateTime        HomeTeam     AwayTeam  FTHG  FTAG  Result  \\\n",
       "0  2020-09-12T12:30:00Z          Fulham      Arsenal     0     3      -3   \n",
       "1  2020-09-12T15:00:00Z  Crystal Palace  Southampton     1     0       1   \n",
       "2  2020-09-12T17:30:00Z       Liverpool        Leeds     4     3       1   \n",
       "\n",
       "  ResultText  \n",
       "0   Away Win  \n",
       "1   Home Win  \n",
       "2   Home Win  "
      ]
     },
     "execution_count": 9,
     "metadata": {},
     "output_type": "execute_result"
    }
   ],
   "source": [
    "# series can do lots of sums for us very quickly\n",
    "\n",
    "df['Result'] = df['FTHG'] - df['FTAG']\n",
    "\n",
    "# define a new function that calculates the winner from the above number\n",
    "\n",
    "def find_winner(value):\n",
    "  if value > 0:\n",
    "    return 'Home Win'\n",
    "  elif value == 0:\n",
    "    return 'Draw'\n",
    "  else:\n",
    "    return 'Away Win'\n",
    "\n",
    "df['ResultText'] = df['Result'].apply(find_winner)\n",
    "\n",
    "df.head(3)"
   ]
  },
  {
   "attachments": {},
   "cell_type": "markdown",
   "metadata": {},
   "source": [
    "Another application would be to see if more goals are scored by the home or away team. Let's check the means."
   ]
  },
  {
   "cell_type": "code",
   "execution_count": 10,
   "metadata": {},
   "outputs": [
    {
     "name": "stdout",
     "output_type": "stream",
     "text": [
      "1.3526315789473684\n",
      "1.3421052631578947\n"
     ]
    }
   ],
   "source": [
    "print(df['FTHG'].mean())\n",
    "print(df['FTAG'].mean())"
   ]
  },
  {
   "attachments": {},
   "cell_type": "markdown",
   "metadata": {},
   "source": [
    "As a broad rule for the season, the home team should expect a 0.01 goal advantage. Very slim."
   ]
  },
  {
   "attachments": {},
   "cell_type": "markdown",
   "metadata": {},
   "source": [
    "What is the average for home and away goals during home and away wins?"
   ]
  },
  {
   "cell_type": "code",
   "execution_count": 12,
   "metadata": {},
   "outputs": [
    {
     "data": {
      "text/html": [
       "<div>\n",
       "<style scoped>\n",
       "    .dataframe tbody tr th:only-of-type {\n",
       "        vertical-align: middle;\n",
       "    }\n",
       "\n",
       "    .dataframe tbody tr th {\n",
       "        vertical-align: top;\n",
       "    }\n",
       "\n",
       "    .dataframe thead th {\n",
       "        text-align: right;\n",
       "    }\n",
       "</style>\n",
       "<table border=\"1\" class=\"dataframe\">\n",
       "  <thead>\n",
       "    <tr style=\"text-align: right;\">\n",
       "      <th></th>\n",
       "      <th>FTHG</th>\n",
       "      <th>FTAG</th>\n",
       "      <th>Result</th>\n",
       "    </tr>\n",
       "    <tr>\n",
       "      <th>ResultText</th>\n",
       "      <th></th>\n",
       "      <th></th>\n",
       "      <th></th>\n",
       "    </tr>\n",
       "  </thead>\n",
       "  <tbody>\n",
       "    <tr>\n",
       "      <th>Away Win</th>\n",
       "      <td>0.581699</td>\n",
       "      <td>2.339869</td>\n",
       "      <td>-1.758170</td>\n",
       "    </tr>\n",
       "    <tr>\n",
       "      <th>Draw</th>\n",
       "      <td>0.867470</td>\n",
       "      <td>0.867470</td>\n",
       "      <td>0.000000</td>\n",
       "    </tr>\n",
       "    <tr>\n",
       "      <th>Home Win</th>\n",
       "      <td>2.451389</td>\n",
       "      <td>0.555556</td>\n",
       "      <td>1.895833</td>\n",
       "    </tr>\n",
       "  </tbody>\n",
       "</table>\n",
       "</div>"
      ],
      "text/plain": [
       "                FTHG      FTAG    Result\n",
       "ResultText                              \n",
       "Away Win    0.581699  2.339869 -1.758170\n",
       "Draw        0.867470  0.867470  0.000000\n",
       "Home Win    2.451389  0.555556  1.895833"
      ]
     },
     "execution_count": 12,
     "metadata": {},
     "output_type": "execute_result"
    }
   ],
   "source": [
    "df.groupby('ResultText').mean(numeric_only=True)"
   ]
  },
  {
   "attachments": {},
   "cell_type": "markdown",
   "metadata": {},
   "source": [
    "If I love to see lots of goals, what team should I check out?"
   ]
  },
  {
   "cell_type": "code",
   "execution_count": 14,
   "metadata": {},
   "outputs": [
    {
     "data": {
      "text/plain": [
       "HomeTeam\n",
       "Man United          3.473684\n",
       "Leicester           3.368421\n",
       "Man City            3.157895\n",
       "Newcastle           3.105263\n",
       "Aston Villa         2.947368\n",
       "Tottenham           2.894737\n",
       "West Ham            2.842105\n",
       "West Brom           2.842105\n",
       "Southampton         2.789474\n",
       "Crystal Palace      2.736842\n",
       "Everton             2.736842\n",
       "Liverpool           2.578947\n",
       "Chelsea             2.578947\n",
       "Leeds               2.578947\n",
       "Wolves              2.421053\n",
       "Arsenal             2.368421\n",
       "Brighton            2.315789\n",
       "Burnley             2.157895\n",
       "Sheffield United    2.052632\n",
       "Fulham              1.947368\n",
       "Name: TotalGoals, dtype: float64"
      ]
     },
     "execution_count": 14,
     "metadata": {},
     "output_type": "execute_result"
    }
   ],
   "source": [
    "# create a total goals field by adding home and away\n",
    "\n",
    "df['TotalGoals'] = df['FTHG'] + df['FTAG']\n",
    "\n",
    "# group dataframe by home team and look at the mean total goals\n",
    "# then sort in descending order\n",
    "\n",
    "df.groupby('HomeTeam').mean(numeric_only=True)['TotalGoals'].sort_values(ascending=False)"
   ]
  },
  {
   "attachments": {},
   "cell_type": "markdown",
   "metadata": {},
   "source": [
    "Looks like we should watch Man Utd. No thanks. What about away?"
   ]
  },
  {
   "cell_type": "code",
   "execution_count": 15,
   "metadata": {},
   "outputs": [
    {
     "data": {
      "text/plain": [
       "AwayTeam\n",
       "Leeds               3.526316\n",
       "Southampton         3.263158\n",
       "Liverpool           3.210526\n",
       "Tottenham           3.052632\n",
       "West Brom           3.000000\n",
       "Man City            2.894737\n",
       "West Ham            2.894737\n",
       "Crystal Palace      2.894737\n",
       "Leicester           2.842105\n",
       "Man United          2.684211\n",
       "Newcastle           2.578947\n",
       "Arsenal             2.578947\n",
       "Burnley             2.473684\n",
       "Aston Villa         2.368421\n",
       "Chelsea             2.368421\n",
       "Sheffield United    2.315789\n",
       "Fulham              2.263158\n",
       "Everton             2.263158\n",
       "Brighton            2.210526\n",
       "Wolves              2.210526\n",
       "Name: TotalGoals, dtype: float64"
      ]
     },
     "execution_count": 15,
     "metadata": {},
     "output_type": "execute_result"
    }
   ],
   "source": [
    "df.groupby('AwayTeam').mean(numeric_only=True)['TotalGoals'].sort_values(ascending=False)"
   ]
  },
  {
   "attachments": {},
   "cell_type": "markdown",
   "metadata": {},
   "source": [
    "Watch Leeds."
   ]
  }
 ],
 "metadata": {
  "kernelspec": {
   "display_name": "env",
   "language": "python",
   "name": "python3"
  },
  "language_info": {
   "codemirror_mode": {
    "name": "ipython",
    "version": 3
   },
   "file_extension": ".py",
   "mimetype": "text/x-python",
   "name": "python",
   "nbconvert_exporter": "python",
   "pygments_lexer": "ipython3",
   "version": "3.10.6"
  },
  "orig_nbformat": 4,
  "vscode": {
   "interpreter": {
    "hash": "e875d0f4f2a501c6eaf96dea2dee878a8e12b67b515bd702018dabcdfe7af8b7"
   }
  }
 },
 "nbformat": 4,
 "nbformat_minor": 2
}
