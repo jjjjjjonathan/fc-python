{
 "cells": [
  {
   "attachments": {},
   "cell_type": "markdown",
   "metadata": {},
   "source": [
    "# Joining Data\n",
    "---"
   ]
  },
  {
   "attachments": {},
   "cell_type": "markdown",
   "metadata": {},
   "source": [
    "Incompelte data sets, whether they are missing individual values or full rows and columns, are a common problem in data analysis. Luckily for us, Pandas has lots of tools to help us make these data sets easier to handle."
   ]
  },
  {
   "cell_type": "code",
   "execution_count": 1,
   "metadata": {},
   "outputs": [
    {
     "data": {
      "text/html": [
       "<div>\n",
       "<style scoped>\n",
       "    .dataframe tbody tr th:only-of-type {\n",
       "        vertical-align: middle;\n",
       "    }\n",
       "\n",
       "    .dataframe tbody tr th {\n",
       "        vertical-align: top;\n",
       "    }\n",
       "\n",
       "    .dataframe thead th {\n",
       "        text-align: right;\n",
       "    }\n",
       "</style>\n",
       "<table border=\"1\" class=\"dataframe\">\n",
       "  <thead>\n",
       "    <tr style=\"text-align: right;\">\n",
       "      <th></th>\n",
       "      <th>Opponent</th>\n",
       "      <th>GoalsFor</th>\n",
       "      <th>GoalsAgainst</th>\n",
       "      <th>Attendance</th>\n",
       "    </tr>\n",
       "  </thead>\n",
       "  <tbody>\n",
       "    <tr>\n",
       "      <th>0</th>\n",
       "      <td>Ouestjambon United</td>\n",
       "      <td>4</td>\n",
       "      <td>1</td>\n",
       "      <td>53225</td>\n",
       "    </tr>\n",
       "  </tbody>\n",
       "</table>\n",
       "</div>"
      ],
      "text/plain": [
       "             Opponent  GoalsFor  GoalsAgainst  Attendance\n",
       "0  Ouestjambon United         4             1       53225"
      ]
     },
     "execution_count": 1,
     "metadata": {},
     "output_type": "execute_result"
    }
   ],
   "source": [
    "import numpy as np\n",
    "import pandas as pd\n",
    "\n",
    "match1 = pd.DataFrame({\n",
    "  'Opponent': ['Selche FC'],\n",
    "  'GoalsFor': [1],\n",
    "  'GoalsAgainst': [1],\n",
    "  'Attendance': [53225]\n",
    "})\n",
    "\n",
    "match2 = pd.DataFrame({\n",
    "  'Opponent': ['Sudaton FC'],\n",
    "  'GoalsFor': [3],\n",
    "  'GoalsAgainst': [0],\n",
    "  'Attendance': [53256]\n",
    "})\n",
    "\n",
    "match3 = pd.DataFrame({\n",
    "  'Opponent': ['Ouestjambon United'],\n",
    "  'GoalsFor': [4],\n",
    "  'GoalsAgainst': [1],\n",
    "  'Attendance': [53225]\n",
    "})\n",
    "\n",
    "match3"
   ]
  },
  {
   "attachments": {},
   "cell_type": "markdown",
   "metadata": {},
   "source": [
    "## Concatenation"
   ]
  },
  {
   "attachments": {},
   "cell_type": "markdown",
   "metadata": {},
   "source": [
    "The simplest method to jolin data os to concatenate them with the `pd.concat()` method."
   ]
  },
  {
   "cell_type": "code",
   "execution_count": 2,
   "metadata": {},
   "outputs": [
    {
     "data": {
      "text/html": [
       "<div>\n",
       "<style scoped>\n",
       "    .dataframe tbody tr th:only-of-type {\n",
       "        vertical-align: middle;\n",
       "    }\n",
       "\n",
       "    .dataframe tbody tr th {\n",
       "        vertical-align: top;\n",
       "    }\n",
       "\n",
       "    .dataframe thead th {\n",
       "        text-align: right;\n",
       "    }\n",
       "</style>\n",
       "<table border=\"1\" class=\"dataframe\">\n",
       "  <thead>\n",
       "    <tr style=\"text-align: right;\">\n",
       "      <th></th>\n",
       "      <th>Opponent</th>\n",
       "      <th>GoalsFor</th>\n",
       "      <th>GoalsAgainst</th>\n",
       "      <th>Attendance</th>\n",
       "    </tr>\n",
       "  </thead>\n",
       "  <tbody>\n",
       "    <tr>\n",
       "      <th>0</th>\n",
       "      <td>Selche FC</td>\n",
       "      <td>1</td>\n",
       "      <td>1</td>\n",
       "      <td>53225</td>\n",
       "    </tr>\n",
       "    <tr>\n",
       "      <th>0</th>\n",
       "      <td>Sudaton FC</td>\n",
       "      <td>3</td>\n",
       "      <td>0</td>\n",
       "      <td>53256</td>\n",
       "    </tr>\n",
       "    <tr>\n",
       "      <th>0</th>\n",
       "      <td>Ouestjambon United</td>\n",
       "      <td>4</td>\n",
       "      <td>1</td>\n",
       "      <td>53225</td>\n",
       "    </tr>\n",
       "  </tbody>\n",
       "</table>\n",
       "</div>"
      ],
      "text/plain": [
       "             Opponent  GoalsFor  GoalsAgainst  Attendance\n",
       "0           Selche FC         1             1       53225\n",
       "0          Sudaton FC         3             0       53256\n",
       "0  Ouestjambon United         4             1       53225"
      ]
     },
     "execution_count": 2,
     "metadata": {},
     "output_type": "execute_result"
    }
   ],
   "source": [
    "AllMatches = pd.concat([match1, match2, match3])\n",
    "AllMatches"
   ]
  },
  {
   "attachments": {},
   "cell_type": "markdown",
   "metadata": {},
   "source": [
    "## Merging"
   ]
  },
  {
   "attachments": {},
   "cell_type": "markdown",
   "metadata": {},
   "source": [
    "`pd.merge()` will allow us to stick data together left-to-right. First, let's create more dtails for our matches above that we can then merge."
   ]
  },
  {
   "cell_type": "code",
   "execution_count": 4,
   "metadata": {},
   "outputs": [
    {
     "data": {
      "text/html": [
       "<div>\n",
       "<style scoped>\n",
       "    .dataframe tbody tr th:only-of-type {\n",
       "        vertical-align: middle;\n",
       "    }\n",
       "\n",
       "    .dataframe tbody tr th {\n",
       "        vertical-align: top;\n",
       "    }\n",
       "\n",
       "    .dataframe thead th {\n",
       "        text-align: right;\n",
       "    }\n",
       "</style>\n",
       "<table border=\"1\" class=\"dataframe\">\n",
       "  <thead>\n",
       "    <tr style=\"text-align: right;\">\n",
       "      <th></th>\n",
       "      <th>First</th>\n",
       "      <th>Last</th>\n",
       "      <th>Opponent</th>\n",
       "    </tr>\n",
       "  </thead>\n",
       "  <tbody>\n",
       "    <tr>\n",
       "      <th>0</th>\n",
       "      <td>Sally</td>\n",
       "      <td>Billy</td>\n",
       "      <td>Selche FC</td>\n",
       "    </tr>\n",
       "    <tr>\n",
       "      <th>0</th>\n",
       "      <td>Sally</td>\n",
       "      <td>Pip</td>\n",
       "      <td>Sudaton FC</td>\n",
       "    </tr>\n",
       "    <tr>\n",
       "      <th>0</th>\n",
       "      <td>Sally</td>\n",
       "      <td>Sally</td>\n",
       "      <td>Ouestjambon United</td>\n",
       "    </tr>\n",
       "  </tbody>\n",
       "</table>\n",
       "</div>"
      ],
      "text/plain": [
       "   First   Last            Opponent\n",
       "0  Sally  Billy           Selche FC\n",
       "0  Sally    Pip          Sudaton FC\n",
       "0  Sally  Sally  Ouestjambon United"
      ]
     },
     "execution_count": 4,
     "metadata": {},
     "output_type": "execute_result"
    }
   ],
   "source": [
    "match1scorers = pd.DataFrame({\n",
    "  'First': ['Sally'],\n",
    "  'Last': ['Billy'],\n",
    "  'Opponent': ['Selche FC']\n",
    "})\n",
    "\n",
    "match2scorers = pd.DataFrame({\n",
    "  'First': ['Sally'],\n",
    "  'Last': ['Pip'],\n",
    "  'Opponent': ['Sudaton FC']\n",
    "})\n",
    "\n",
    "match3scorers = pd.DataFrame({\n",
    "  'First': ['Sally'],\n",
    "  'Last': ['Sally'],\n",
    "  'Opponent': ['Ouestjambon United']\n",
    "})\n",
    "\n",
    "AllScorers = pd.concat([match1scorers, match2scorers, match3scorers])\n",
    "AllScorers"
   ]
  },
  {
   "cell_type": "code",
   "execution_count": 5,
   "metadata": {},
   "outputs": [
    {
     "data": {
      "text/html": [
       "<div>\n",
       "<style scoped>\n",
       "    .dataframe tbody tr th:only-of-type {\n",
       "        vertical-align: middle;\n",
       "    }\n",
       "\n",
       "    .dataframe tbody tr th {\n",
       "        vertical-align: top;\n",
       "    }\n",
       "\n",
       "    .dataframe thead th {\n",
       "        text-align: right;\n",
       "    }\n",
       "</style>\n",
       "<table border=\"1\" class=\"dataframe\">\n",
       "  <thead>\n",
       "    <tr style=\"text-align: right;\">\n",
       "      <th></th>\n",
       "      <th>Opponent</th>\n",
       "      <th>GoalsFor</th>\n",
       "      <th>GoalsAgainst</th>\n",
       "      <th>Attendance</th>\n",
       "      <th>First</th>\n",
       "      <th>Last</th>\n",
       "    </tr>\n",
       "  </thead>\n",
       "  <tbody>\n",
       "    <tr>\n",
       "      <th>0</th>\n",
       "      <td>Selche FC</td>\n",
       "      <td>1</td>\n",
       "      <td>1</td>\n",
       "      <td>53225</td>\n",
       "      <td>Sally</td>\n",
       "      <td>Billy</td>\n",
       "    </tr>\n",
       "    <tr>\n",
       "      <th>1</th>\n",
       "      <td>Sudaton FC</td>\n",
       "      <td>3</td>\n",
       "      <td>0</td>\n",
       "      <td>53256</td>\n",
       "      <td>Sally</td>\n",
       "      <td>Pip</td>\n",
       "    </tr>\n",
       "    <tr>\n",
       "      <th>2</th>\n",
       "      <td>Ouestjambon United</td>\n",
       "      <td>4</td>\n",
       "      <td>1</td>\n",
       "      <td>53225</td>\n",
       "      <td>Sally</td>\n",
       "      <td>Sally</td>\n",
       "    </tr>\n",
       "  </tbody>\n",
       "</table>\n",
       "</div>"
      ],
      "text/plain": [
       "             Opponent  GoalsFor  GoalsAgainst  Attendance  First   Last\n",
       "0           Selche FC         1             1       53225  Sally  Billy\n",
       "1          Sudaton FC         3             0       53256  Sally    Pip\n",
       "2  Ouestjambon United         4             1       53225  Sally  Sally"
      ]
     },
     "execution_count": 5,
     "metadata": {},
     "output_type": "execute_result"
    }
   ],
   "source": [
    "pd.merge(AllMatches, AllScorers, how='inner', on='Opponent')"
   ]
  },
  {
   "attachments": {},
   "cell_type": "markdown",
   "metadata": {},
   "source": [
    "This is like SQL. Here I just did an inner join where the opponent columns are connected."
   ]
  }
 ],
 "metadata": {
  "kernelspec": {
   "display_name": "env",
   "language": "python",
   "name": "python3"
  },
  "language_info": {
   "codemirror_mode": {
    "name": "ipython",
    "version": 3
   },
   "file_extension": ".py",
   "mimetype": "text/x-python",
   "name": "python",
   "nbconvert_exporter": "python",
   "pygments_lexer": "ipython3",
   "version": "3.10.6"
  },
  "orig_nbformat": 4,
  "vscode": {
   "interpreter": {
    "hash": "e875d0f4f2a501c6eaf96dea2dee878a8e12b67b515bd702018dabcdfe7af8b7"
   }
  }
 },
 "nbformat": 4,
 "nbformat_minor": 2
}
