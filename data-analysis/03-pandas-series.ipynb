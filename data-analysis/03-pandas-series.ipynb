{
 "cells": [
  {
   "attachments": {},
   "cell_type": "markdown",
   "metadata": {},
   "source": [
    "# Series\n",
    "---"
   ]
  },
  {
   "attachments": {},
   "cell_type": "markdown",
   "metadata": {},
   "source": [
    "Key difference between NumPy arrays and Pandas series is that **Pandas will allow us to albel or axes**, making grids a lot easier to read, index, and utilize."
   ]
  },
  {
   "cell_type": "code",
   "execution_count": 1,
   "metadata": {},
   "outputs": [],
   "source": [
    "import numpy as np\n",
    "import pandas as pd"
   ]
  },
  {
   "cell_type": "code",
   "execution_count": 2,
   "metadata": {},
   "outputs": [
    {
     "name": "stdout",
     "output_type": "stream",
     "text": [
      "0    60432\n",
      "1    55097\n",
      "2    39460\n",
      "dtype: int64\n"
     ]
    }
   ],
   "source": [
    "capacity = pd.Series(data=[60432, 55097, 39460])\n",
    "print(capacity)"
   ]
  },
  {
   "attachments": {},
   "cell_type": "markdown",
   "metadata": {},
   "source": [
    "This is a series created from a list, and it looks different as it has an index running alongside it."
   ]
  },
  {
   "attachments": {},
   "cell_type": "markdown",
   "metadata": {},
   "source": [
    "We can also change these index labels."
   ]
  },
  {
   "cell_type": "code",
   "execution_count": 3,
   "metadata": {},
   "outputs": [
    {
     "name": "stdout",
     "output_type": "stream",
     "text": [
      "Emirates Stadium    60432\n",
      "Etihad Stadium      55097\n",
      "Elland Road         39460\n",
      "dtype: int64\n"
     ]
    }
   ],
   "source": [
    "capacity = pd.Series(data=[60432, 55097, 39460],\n",
    "                    index=['Emirates Stadium', 'Etihad Stadium', 'Elland Road'])\n",
    "\n",
    "print(capacity)"
   ]
  },
  {
   "attachments": {},
   "cell_type": "markdown",
   "metadata": {},
   "source": [
    "Passing an index argument changes the index labels, and our data is now much easier to read when we need to."
   ]
  },
  {
   "attachments": {},
   "cell_type": "markdown",
   "metadata": {},
   "source": [
    "It's also easier to select."
   ]
  },
  {
   "cell_type": "code",
   "execution_count": 4,
   "metadata": {},
   "outputs": [
    {
     "name": "stdout",
     "output_type": "stream",
     "text": [
      "39460\n"
     ]
    }
   ],
   "source": [
    "print(capacity['Elland Road'])"
   ]
  },
  {
   "attachments": {},
   "cell_type": "markdown",
   "metadata": {},
   "source": [
    "You can also use dictionaries to do the same thing."
   ]
  },
  {
   "cell_type": "code",
   "execution_count": 5,
   "metadata": {},
   "outputs": [
    {
     "name": "stdout",
     "output_type": "stream",
     "text": [
      "Ewood Park         31367\n",
      "Liberty Stadium    20937\n",
      "Portman Road       30311\n",
      "dtype: int64\n"
     ]
    }
   ],
   "source": [
    "capacity_dict = {\n",
    "  'Ewood Park': 31367,\n",
    "  'Liberty Stadium': 20937,\n",
    "  'Portman Road': 30311\n",
    "}\n",
    "\n",
    "capacity = pd.Series(capacity_dict)\n",
    "\n",
    "print(capacity)"
   ]
  }
 ],
 "metadata": {
  "kernelspec": {
   "display_name": "fcpython",
   "language": "python",
   "name": "python3"
  },
  "language_info": {
   "codemirror_mode": {
    "name": "ipython",
    "version": 3
   },
   "file_extension": ".py",
   "mimetype": "text/x-python",
   "name": "python",
   "nbconvert_exporter": "python",
   "pygments_lexer": "ipython3",
   "version": "3.10.8 (main, Nov 24 2022, 14:13:03) [GCC 11.2.0]"
  },
  "orig_nbformat": 4,
  "vscode": {
   "interpreter": {
    "hash": "0a031f6bf7f9f33fbbc1980bb8f0ba00404679d2d05f4f9ce863d67b86b4ca41"
   }
  }
 },
 "nbformat": 4,
 "nbformat_minor": 2
}
