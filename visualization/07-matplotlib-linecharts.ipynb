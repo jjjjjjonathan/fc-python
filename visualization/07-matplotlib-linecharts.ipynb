{
 "cells": [
  {
   "attachments": {},
   "cell_type": "markdown",
   "metadata": {},
   "source": [
    "# Visualizing Running Totals with Line Charts\n",
    "---"
   ]
  },
  {
   "attachments": {},
   "cell_type": "markdown",
   "metadata": {},
   "source": [
    "These are most commonly seen in xG or shot counts throughout a game."
   ]
  },
  {
   "cell_type": "code",
   "execution_count": 1,
   "metadata": {},
   "outputs": [],
   "source": [
    "# libraries\n",
    "import matplotlib.pyplot as plt\n",
    "import numpy as np\n",
    "import pandas as pd\n",
    "\n",
    "%matplotlib inline"
   ]
  },
  {
   "cell_type": "code",
   "execution_count": 2,
   "metadata": {},
   "outputs": [
    {
     "data": {
      "text/html": [
       "<div>\n",
       "<style scoped>\n",
       "    .dataframe tbody tr th:only-of-type {\n",
       "        vertical-align: middle;\n",
       "    }\n",
       "\n",
       "    .dataframe tbody tr th {\n",
       "        vertical-align: top;\n",
       "    }\n",
       "\n",
       "    .dataframe thead th {\n",
       "        text-align: right;\n",
       "    }\n",
       "</style>\n",
       "<table border=\"1\" class=\"dataframe\">\n",
       "  <thead>\n",
       "    <tr style=\"text-align: right;\">\n",
       "      <th></th>\n",
       "      <th>Div</th>\n",
       "      <th>Date</th>\n",
       "      <th>Time</th>\n",
       "      <th>HomeTeam</th>\n",
       "      <th>AwayTeam</th>\n",
       "      <th>FTHG</th>\n",
       "      <th>FTAG</th>\n",
       "      <th>FTR</th>\n",
       "      <th>HTHG</th>\n",
       "      <th>HTAG</th>\n",
       "      <th>...</th>\n",
       "      <th>AvgC&lt;2.5</th>\n",
       "      <th>AHCh</th>\n",
       "      <th>B365CAHH</th>\n",
       "      <th>B365CAHA</th>\n",
       "      <th>PCAHH</th>\n",
       "      <th>PCAHA</th>\n",
       "      <th>MaxCAHH</th>\n",
       "      <th>MaxCAHA</th>\n",
       "      <th>AvgCAHH</th>\n",
       "      <th>AvgCAHA</th>\n",
       "    </tr>\n",
       "  </thead>\n",
       "  <tbody>\n",
       "    <tr>\n",
       "      <th>0</th>\n",
       "      <td>E0</td>\n",
       "      <td>13/08/2021</td>\n",
       "      <td>20:00</td>\n",
       "      <td>Brentford</td>\n",
       "      <td>Arsenal</td>\n",
       "      <td>2</td>\n",
       "      <td>0</td>\n",
       "      <td>H</td>\n",
       "      <td>1</td>\n",
       "      <td>0</td>\n",
       "      <td>...</td>\n",
       "      <td>1.62</td>\n",
       "      <td>0.50</td>\n",
       "      <td>1.75</td>\n",
       "      <td>2.05</td>\n",
       "      <td>1.81</td>\n",
       "      <td>2.13</td>\n",
       "      <td>2.05</td>\n",
       "      <td>2.17</td>\n",
       "      <td>1.80</td>\n",
       "      <td>2.09</td>\n",
       "    </tr>\n",
       "    <tr>\n",
       "      <th>1</th>\n",
       "      <td>E0</td>\n",
       "      <td>14/08/2021</td>\n",
       "      <td>12:30</td>\n",
       "      <td>Man United</td>\n",
       "      <td>Leeds</td>\n",
       "      <td>5</td>\n",
       "      <td>1</td>\n",
       "      <td>H</td>\n",
       "      <td>1</td>\n",
       "      <td>0</td>\n",
       "      <td>...</td>\n",
       "      <td>2.25</td>\n",
       "      <td>-1.00</td>\n",
       "      <td>2.05</td>\n",
       "      <td>1.75</td>\n",
       "      <td>2.17</td>\n",
       "      <td>1.77</td>\n",
       "      <td>2.19</td>\n",
       "      <td>1.93</td>\n",
       "      <td>2.10</td>\n",
       "      <td>1.79</td>\n",
       "    </tr>\n",
       "    <tr>\n",
       "      <th>2</th>\n",
       "      <td>E0</td>\n",
       "      <td>14/08/2021</td>\n",
       "      <td>15:00</td>\n",
       "      <td>Burnley</td>\n",
       "      <td>Brighton</td>\n",
       "      <td>1</td>\n",
       "      <td>2</td>\n",
       "      <td>A</td>\n",
       "      <td>1</td>\n",
       "      <td>0</td>\n",
       "      <td>...</td>\n",
       "      <td>1.62</td>\n",
       "      <td>0.25</td>\n",
       "      <td>1.79</td>\n",
       "      <td>2.15</td>\n",
       "      <td>1.81</td>\n",
       "      <td>2.14</td>\n",
       "      <td>1.82</td>\n",
       "      <td>2.19</td>\n",
       "      <td>1.79</td>\n",
       "      <td>2.12</td>\n",
       "    </tr>\n",
       "    <tr>\n",
       "      <th>3</th>\n",
       "      <td>E0</td>\n",
       "      <td>14/08/2021</td>\n",
       "      <td>15:00</td>\n",
       "      <td>Chelsea</td>\n",
       "      <td>Crystal Palace</td>\n",
       "      <td>3</td>\n",
       "      <td>0</td>\n",
       "      <td>H</td>\n",
       "      <td>2</td>\n",
       "      <td>0</td>\n",
       "      <td>...</td>\n",
       "      <td>1.94</td>\n",
       "      <td>-1.50</td>\n",
       "      <td>2.05</td>\n",
       "      <td>1.75</td>\n",
       "      <td>2.12</td>\n",
       "      <td>1.81</td>\n",
       "      <td>2.16</td>\n",
       "      <td>1.93</td>\n",
       "      <td>2.06</td>\n",
       "      <td>1.82</td>\n",
       "    </tr>\n",
       "    <tr>\n",
       "      <th>4</th>\n",
       "      <td>E0</td>\n",
       "      <td>14/08/2021</td>\n",
       "      <td>15:00</td>\n",
       "      <td>Everton</td>\n",
       "      <td>Southampton</td>\n",
       "      <td>3</td>\n",
       "      <td>1</td>\n",
       "      <td>H</td>\n",
       "      <td>0</td>\n",
       "      <td>1</td>\n",
       "      <td>...</td>\n",
       "      <td>1.67</td>\n",
       "      <td>-0.50</td>\n",
       "      <td>2.05</td>\n",
       "      <td>1.88</td>\n",
       "      <td>2.05</td>\n",
       "      <td>1.88</td>\n",
       "      <td>2.08</td>\n",
       "      <td>1.90</td>\n",
       "      <td>2.03</td>\n",
       "      <td>1.86</td>\n",
       "    </tr>\n",
       "  </tbody>\n",
       "</table>\n",
       "<p>5 rows × 106 columns</p>\n",
       "</div>"
      ],
      "text/plain": [
       "  Div        Date   Time    HomeTeam        AwayTeam  FTHG  FTAG FTR  HTHG  \\\n",
       "0  E0  13/08/2021  20:00   Brentford         Arsenal     2     0   H     1   \n",
       "1  E0  14/08/2021  12:30  Man United           Leeds     5     1   H     1   \n",
       "2  E0  14/08/2021  15:00     Burnley        Brighton     1     2   A     1   \n",
       "3  E0  14/08/2021  15:00     Chelsea  Crystal Palace     3     0   H     2   \n",
       "4  E0  14/08/2021  15:00     Everton     Southampton     3     1   H     0   \n",
       "\n",
       "   HTAG  ... AvgC<2.5  AHCh  B365CAHH  B365CAHA  PCAHH  PCAHA  MaxCAHH  \\\n",
       "0     0  ...     1.62  0.50      1.75      2.05   1.81   2.13     2.05   \n",
       "1     0  ...     2.25 -1.00      2.05      1.75   2.17   1.77     2.19   \n",
       "2     0  ...     1.62  0.25      1.79      2.15   1.81   2.14     1.82   \n",
       "3     0  ...     1.94 -1.50      2.05      1.75   2.12   1.81     2.16   \n",
       "4     1  ...     1.67 -0.50      2.05      1.88   2.05   1.88     2.08   \n",
       "\n",
       "   MaxCAHA  AvgCAHH  AvgCAHA  \n",
       "0     2.17     1.80     2.09  \n",
       "1     1.93     2.10     1.79  \n",
       "2     2.19     1.79     2.12  \n",
       "3     1.93     2.06     1.82  \n",
       "4     1.90     2.03     1.86  \n",
       "\n",
       "[5 rows x 106 columns]"
      ]
     },
     "execution_count": 2,
     "metadata": {},
     "output_type": "execute_result"
    }
   ],
   "source": [
    "# import data and assign it to 'data'\n",
    "\n",
    "data = pd.read_csv('../csv/E0.csv')\n",
    "\n",
    "# show top of the data frame\n",
    "data.head()"
   ]
  },
  {
   "attachments": {},
   "cell_type": "markdown",
   "metadata": {},
   "source": [
    "## Transform our data into a usable format"
   ]
  },
  {
   "attachments": {},
   "cell_type": "markdown",
   "metadata": {},
   "source": [
    "Since the data is a match-by-match look at a season, it won't help us much for a line chart. We need our data to be the data that we want to plot - a list of the cumulative totals for each team over the season."
   ]
  },
  {
   "attachments": {},
   "cell_type": "markdown",
   "metadata": {},
   "source": [
    "Let's create a list of the unique teams in our data frame. Then we'll create a dictionary that will interate over our teams and give each a list that starts with a 0, as each team obviously starts with 0 points."
   ]
  },
  {
   "cell_type": "code",
   "execution_count": 4,
   "metadata": {},
   "outputs": [
    {
     "name": "stdout",
     "output_type": "stream",
     "text": [
      "{'Brentford': [0], 'Man United': [0], 'Burnley': [0], 'Chelsea': [0], 'Everton': [0], 'Leicester': [0], 'Watford': [0], 'Norwich': [0], 'Newcastle': [0], 'Tottenham': [0], 'Liverpool': [0], 'Aston Villa': [0], 'Crystal Palace': [0], 'Leeds': [0], 'Man City': [0], 'Brighton': [0], 'Southampton': [0], 'Wolves': [0], 'Arsenal': [0], 'West Ham': [0]}\n"
     ]
    }
   ],
   "source": [
    "# create a list of unique teams from the home team column\n",
    "teams = data.HomeTeam.unique()\n",
    "\n",
    "# create a dictionary called team_lists\n",
    "team_lists = { team : [0] for team in teams }\n",
    "print(team_lists)"
   ]
  },
  {
   "attachments": {},
   "cell_type": "markdown",
   "metadata": {},
   "source": [
    "Now we just need to run through each match to find our who won, and add a new entry into the correct team's list with their points."
   ]
  },
  {
   "attachments": {},
   "cell_type": "markdown",
   "metadata": {},
   "source": [
    "We can do this by working through each line of our dataframe, learning who the home and away teams are, then running an if statement to learn the result. Once we know the result, we can add each team's points with the append method."
   ]
  },
  {
   "cell_type": "code",
   "execution_count": 6,
   "metadata": {},
   "outputs": [],
   "source": [
    "# for each row in our dataframe:\n",
    "\n",
    "for row in data.itertuples():\n",
    "  # add the home and away team names to the correct variable\n",
    "  home = row.HomeTeam\n",
    "  away = row.AwayTeam\n",
    "\n",
    "  # if the home team goals (FTHG column) are higher than the away team goals (FTAG), give correct points\n",
    "  if row.FTHG > row.FTAG:\n",
    "    team_lists[home].append(3)\n",
    "    team_lists[away].append(0)\n",
    "  \n",
    "  # if home team is less than away, give correct points\n",
    "  elif row.FTHG < row.FTAG:\n",
    "    team_lists[home].append(0)\n",
    "    team_lists[away].append(3)\n",
    "\n",
    "  # in any other case (draw), give correct points\n",
    "  else:\n",
    "    team_lists[home].append(1)\n",
    "    team_lists[away].append(1)"
   ]
  },
  {
   "attachments": {},
   "cell_type": "markdown",
   "metadata": {},
   "source": [
    "Let's check Brentford and Chelsea entries."
   ]
  },
  {
   "cell_type": "code",
   "execution_count": 7,
   "metadata": {},
   "outputs": [
    {
     "name": "stdout",
     "output_type": "stream",
     "text": [
      "[0, 3, 1, 1, 0, 3, 1, 3, 0, 0, 0, 0, 1, 3, 0, 1, 3, 0, 0, 3, 0, 0, 0, 0, 0, 1, 0, 0, 3, 3, 0, 3, 3, 3, 1, 0, 3, 3, 0]\n",
      "[0, 3, 3, 1, 3, 3, 0, 3, 3, 3, 3, 1, 3, 1, 3, 0, 3, 1, 1, 3, 1, 1, 0, 1, 3, 3, 3, 3, 3, 0, 3, 0, 3, 1, 0, 1, 3, 1, 3]\n"
     ]
    }
   ],
   "source": [
    "print(team_lists['Brentford'])\n",
    "print(team_lists['Chelsea'])"
   ]
  },
  {
   "attachments": {},
   "cell_type": "markdown",
   "metadata": {},
   "source": [
    "So we have appended points, but have done nothign to run these as culumative totals throughout the season."
   ]
  },
  {
   "attachments": {},
   "cell_type": "markdown",
   "metadata": {},
   "source": [
    "To achieve this, we need to access the previous game and just add our result to this. We can navigate backwards through a list with a negative value in square brackets."
   ]
  },
  {
   "attachments": {},
   "cell_type": "markdown",
   "metadata": {},
   "source": [
    "Let's reset out teams and team_lists so they don't have previous data. With that all cleaned up, we can repeat our for loop, but instead of appending the points, we will append the sum of points and the previous value."
   ]
  },
  {
   "cell_type": "code",
   "execution_count": 8,
   "metadata": {},
   "outputs": [],
   "source": [
    "teams = data.HomeTeam.unique()\n",
    "team_lists = { team: [0] for team in teams}\n",
    "\n",
    "for row in data.itertuples():\n",
    "  home = row.HomeTeam\n",
    "  away = row.AwayTeam\n",
    "\n",
    "  if row.FTHG > row.FTAG:\n",
    "    team_lists[home].append(team_lists[home][-1] + 3)\n",
    "    team_lists[away].append(team_lists[away][-1] + 0)\n",
    "\n",
    "  elif row.FTHG < row.FTAG:\n",
    "    team_lists[home].append(team_lists[home][-1] + 0)\n",
    "    team_lists[away].append(team_lists[away][-1] + 3)\n",
    "\n",
    "  else:\n",
    "    team_lists[home].append(team_lists[home][-1] + 1)\n",
    "    team_lists[away].append(team_lists[away][-1] + 1)"
   ]
  },
  {
   "cell_type": "code",
   "execution_count": 9,
   "metadata": {},
   "outputs": [
    {
     "name": "stdout",
     "output_type": "stream",
     "text": [
      "[0, 3, 4, 5, 5, 8, 9, 12, 12, 12, 12, 12, 13, 16, 16, 17, 20, 20, 20, 23, 23, 23, 23, 23, 23, 24, 24, 24, 27, 30, 30, 33, 36, 39, 40, 40, 43, 46, 46]\n",
      "[0, 3, 6, 7, 10, 13, 13, 16, 19, 22, 25, 26, 29, 30, 33, 33, 36, 37, 38, 41, 42, 43, 43, 44, 47, 50, 53, 56, 59, 59, 62, 62, 65, 66, 66, 67, 70, 71, 74]\n"
     ]
    }
   ],
   "source": [
    "print(team_lists['Brentford'])\n",
    "print(team_lists['Chelsea'])"
   ]
  },
  {
   "attachments": {},
   "cell_type": "markdown",
   "metadata": {},
   "source": [
    "## Put our data into a basic viz"
   ]
  },
  {
   "attachments": {},
   "cell_type": "markdown",
   "metadata": {},
   "source": [
    "The `.plot` function in matplotlib ideally takes at least two arguments, the x and y location of each point. The points provide one of the coordinates of each point. We just need to create a list containing numbers 0-38 for our matchdays (0 is the starting point)."
   ]
  },
  {
   "attachments": {},
   "cell_type": "markdown",
   "metadata": {},
   "source": [
    "We can do this using the range function within the list function. For this, range needs two numbers, the starting number and the end number + 1."
   ]
  },
  {
   "cell_type": "code",
   "execution_count": 10,
   "metadata": {},
   "outputs": [],
   "source": [
    "matchday = list(range(0, 39))"
   ]
  },
  {
   "cell_type": "code",
   "execution_count": 11,
   "metadata": {},
   "outputs": [
    {
     "data": {
      "text/plain": [
       "[<matplotlib.lines.Line2D at 0x7f4eb5d67910>]"
      ]
     },
     "execution_count": 11,
     "metadata": {},
     "output_type": "execute_result"
    },
    {
     "data": {
      "image/png": "[encoded data removed]",
      "text/plain": [
       "<Figure size 640x480 with 1 Axes>"
      ]
     },
     "metadata": {},
     "output_type": "display_data"
    }
   ],
   "source": [
    "# create a line plot with matchday and teamlist figures for two teams\n",
    "plt.plot(matchday, team_lists['Brentford'])\n",
    "plt.plot(matchday, team_lists['Chelsea'])"
   ]
  },
  {
   "attachments": {},
   "cell_type": "markdown",
   "metadata": {},
   "source": [
    "## Styling the visualization"
   ]
  },
  {
   "cell_type": "code",
   "execution_count": 13,
   "metadata": {},
   "outputs": [
    {
     "data": {
      "image/png": "[encoded data removed]",
      "text/plain": [
       "<Figure size 640x480 with 1 Axes>"
      ]
     },
     "metadata": {},
     "output_type": "display_data"
    }
   ],
   "source": [
    "# create the bare bones of what will be our viz\n",
    "fig, ax = plt.subplots()\n",
    "\n",
    "# add our data as before, but setting colours and widths of lines\n",
    "plt.plot(matchday, team_lists['Chelsea'], color = '#004793', linewidth = 2)\n",
    "plt.plot(matchday, team_lists['Brentford'], color = '#FF0000', linewidth = 2)\n",
    "\n",
    "# give the axes and plot a title each\n",
    "plt.xlabel('Gameweek')\n",
    "plt.ylabel('Points')\n",
    "plt.title('Brentford v. Chelsea Running Points')\n",
    "\n",
    "# add a faint grey grid\n",
    "plt.grid()\n",
    "ax.xaxis.grid(color = '#f8f8f8')\n",
    "ax.yaxis.grid(color = '#f9f9f9')\n",
    "\n",
    "# remove the margins between our lines and the axes\n",
    "plt.margins(x = 0, y = 0)\n",
    "\n",
    "# remove the spines of the chart on the top and right sides\n",
    "ax.spines['right'].set_visible(False)\n",
    "ax.spines['top'].set_visible(False)"
   ]
  }
 ],
 "metadata": {
  "kernelspec": {
   "display_name": ".venv",
   "language": "python",
   "name": "python3"
  },
  "language_info": {
   "codemirror_mode": {
    "name": "ipython",
    "version": 3
   },
   "file_extension": ".py",
   "mimetype": "text/x-python",
   "name": "python",
   "nbconvert_exporter": "python",
   "pygments_lexer": "ipython3",
   "version": "3.10.6"
  },
  "orig_nbformat": 4,
  "vscode": {
   "interpreter": {
    "hash": "0b24cbd0fa897408f7df450e21f523d8555adb8fea05a1056c3c0783bf5890a5"
   }
  }
 },
 "nbformat": 4,
 "nbformat_minor": 2
}
