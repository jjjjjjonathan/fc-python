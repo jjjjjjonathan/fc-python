{
 "cells": [
  {
   "cell_type": "code",
   "execution_count": null,
   "metadata": {},
   "outputs": [],
   "source": []
  }
 ],
 "metadata": {
  "kernelspec": {
   "display_name": "fcpython",
   "language": "python",
   "name": "python3"
  },
  "language_info": {
   "name": "python",
   "version": "3.10.8 (main, Nov 24 2022, 14:13:03) [GCC 11.2.0]"
  },
  "orig_nbformat": 4,
  "vscode": {
   "interpreter": {
    "hash": "0a031f6bf7f9f33fbbc1980bb8f0ba00404679d2d05f4f9ce863d67b86b4ca41"
   }
  }
 },
 "nbformat": 4,
 "nbformat_minor": 2
}
